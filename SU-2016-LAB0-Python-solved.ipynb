{
 "cells": [
  {
   "cell_type": "markdown",
   "metadata": {},
   "source": [
    "Sveučilište u Zagrebu<br>\n",
    "Fakultet elektrotehnike i računarstva\n",
    "\n",
    "## Strojno učenje 2016./2017.\n",
    "\n",
    "<a href=\"http://www.fer.unizg.hr/predmet/su\">http://www.fer.unizg.hr/predmet/su</a>"
   ]
  },
  {
   "cell_type": "markdown",
   "metadata": {},
   "source": [
    "### Laboratorijska vježba 0: Uvod u Python\n",
    "\n",
    "(c) 2015-2016 Domagoj Alagić\n",
    "\n",
    "<i>Verzija: 0.1</i> <br/>\n",
    "<i>Zadnji put ažurirano: 7. listopada 2016.</i>"
   ]
  },
  {
   "cell_type": "code",
   "execution_count": 3,
   "metadata": {
    "collapsed": false
   },
   "outputs": [
    {
     "name": "stdout",
     "output_type": "stream",
     "text": [
      "Populating the interactive namespace from numpy and matplotlib\n"
     ]
    }
   ],
   "source": [
    "import numpy as np\n",
    "import scipy as sp\n",
    "from scipy import stats\n",
    "import matplotlib.pyplot as plt\n",
    "from sklearn import datasets\n",
    "%pylab inline"
   ]
  },
  {
   "cell_type": "markdown",
   "metadata": {},
   "source": [
    "## 1."
   ]
  },
  {
   "cell_type": "markdown",
   "metadata": {},
   "source": [
    "__(a)__ Kreirajte dvije liste: $a = [2, 4, 5, 6, 8, 13]$ i $b = [1, 3, 10, 13, 15]$."
   ]
  },
  {
   "cell_type": "code",
   "execution_count": 418,
   "metadata": {
    "collapsed": false
   },
   "outputs": [
    {
     "name": "stdout",
     "output_type": "stream",
     "text": [
      "[2, 4, 5, 6, 8, 13] [1, 3, 10, 13, 15]\n"
     ]
    }
   ],
   "source": [
    "a = [2, 4, 5, 6, 8, 13]\n",
    "b = [1, 3, 10, 13, 15]\n",
    "print a, b"
   ]
  },
  {
   "cell_type": "markdown",
   "metadata": {},
   "source": [
    "__(b)__ Napišite kôd koji konkatenira liste $a$ i $b$ u listu $c$:"
   ]
  },
  {
   "cell_type": "code",
   "execution_count": 419,
   "metadata": {
    "collapsed": false
   },
   "outputs": [
    {
     "name": "stdout",
     "output_type": "stream",
     "text": [
      "[2, 4, 5, 6, 8, 13, 1, 3, 10, 13, 15]\n"
     ]
    }
   ],
   "source": [
    "c = a + b\n",
    "print c"
   ]
  },
  {
   "cell_type": "markdown",
   "metadata": {},
   "source": [
    "__(c)__ Sortirajte listu $c$:"
   ]
  },
  {
   "cell_type": "code",
   "execution_count": 420,
   "metadata": {
    "collapsed": false
   },
   "outputs": [
    {
     "name": "stdout",
     "output_type": "stream",
     "text": [
      "[1, 2, 3, 4, 5, 6, 8, 10, 13, 13, 15]\n"
     ]
    }
   ],
   "source": [
    "c = sorted(c)\n",
    "print c"
   ]
  },
  {
   "cell_type": "markdown",
   "metadata": {},
   "source": [
    "__(d)__ Izbacite duplikate iz liste c:"
   ]
  },
  {
   "cell_type": "code",
   "execution_count": 421,
   "metadata": {
    "collapsed": false
   },
   "outputs": [
    {
     "name": "stdout",
     "output_type": "stream",
     "text": [
      "[1, 2, 3, 4, 5, 6, 8, 10, 13, 15]\n"
     ]
    }
   ],
   "source": [
    "c = list(set(c))\n",
    "print c"
   ]
  },
  {
   "cell_type": "markdown",
   "metadata": {},
   "source": [
    "__(e)__ Dohvatite i ispišite (pazite na indeksiranje od 0):\n",
    "* treći element,\n",
    "* zadnja dva elementa,\n",
    "* sve elemente između trećeg i šestog (uključujući treći element, isključujući šesti)."
   ]
  },
  {
   "cell_type": "code",
   "execution_count": 455,
   "metadata": {
    "collapsed": false
   },
   "outputs": [
    {
     "name": "stdout",
     "output_type": "stream",
     "text": [
      "3\n",
      "[13, 15]\n",
      "[3, 4, 5]\n"
     ]
    }
   ],
   "source": [
    "print c[2]\n",
    "print c[-2:]\n",
    "print c[2:5]"
   ]
  },
  {
   "cell_type": "markdown",
   "metadata": {},
   "source": [
    "__(f)__ Generirajte interval brojeva `ran` s elementima iz $[2, 20]$."
   ]
  },
  {
   "cell_type": "code",
   "execution_count": 423,
   "metadata": {
    "collapsed": false
   },
   "outputs": [
    {
     "name": "stdout",
     "output_type": "stream",
     "text": [
      "[2, 3, 4, 5, 6, 7, 8, 9, 10, 11, 12, 13, 14, 15, 16, 17, 18, 19, 20]\n"
     ]
    }
   ],
   "source": [
    "ran = range(2, 21)\n",
    "print ran"
   ]
  },
  {
   "cell_type": "markdown",
   "metadata": {},
   "source": [
    "__(g)__ Ispišite sve generirane brojeve iz intervala skupa s njihovim indeksima u listi:"
   ]
  },
  {
   "cell_type": "code",
   "execution_count": 424,
   "metadata": {
    "collapsed": false
   },
   "outputs": [
    {
     "name": "stdout",
     "output_type": "stream",
     "text": [
      "0 2\n",
      "1 3\n",
      "2 4\n",
      "3 5\n",
      "4 6\n",
      "5 7\n",
      "6 8\n",
      "7 9\n",
      "8 10\n",
      "9 11\n",
      "10 12\n",
      "11 13\n",
      "12 14\n",
      "13 15\n",
      "14 16\n",
      "15 17\n",
      "16 18\n",
      "17 19\n",
      "18 20\n"
     ]
    }
   ],
   "source": [
    "for ind, val in enumerate(ran):\n",
    "    print ind, val"
   ]
  },
  {
   "cell_type": "markdown",
   "metadata": {},
   "source": [
    "__(h)__ Korištenjem sažetog zapisa liste (engl. _list comprehension_) transformirajte listu `ran` tako da sve elemente zamijenite njihovim prirodnim logaritmom."
   ]
  },
  {
   "cell_type": "code",
   "execution_count": 425,
   "metadata": {
    "collapsed": false
   },
   "outputs": [
    {
     "name": "stdout",
     "output_type": "stream",
     "text": [
      "[0.69314718055994529, 1.0986122886681098, 1.3862943611198906, 1.6094379124341003, 1.791759469228055, 1.9459101490553132, 2.0794415416798357, 2.1972245773362196, 2.3025850929940459, 2.3978952727983707, 2.4849066497880004, 2.5649493574615367, 2.6390573296152584, 2.7080502011022101, 2.7725887222397811, 2.8332133440562162, 2.8903717578961645, 2.9444389791664403, 2.9957322735539909]\n"
     ]
    }
   ],
   "source": [
    "ran_ln = [np.log(elem) for elem in ran]\n",
    "print ran_ln"
   ]
  },
  {
   "cell_type": "markdown",
   "metadata": {},
   "source": [
    "## 2."
   ]
  },
  {
   "cell_type": "markdown",
   "metadata": {},
   "source": [
    "__(a)__ Napišite funkciju `make_3sg_form(word)` koja vraća glagol u trećem licu jednine za dani glagol u infinitivu, npr. _try_ -> _tries_. Slijedite sljedeća pravila:\n",
    "* Ako glagol završava na _y_, odbaci _y_ i dodaj _ies_.\n",
    "* Ako glagol završava na _o_, _ch_, _s_, _sh_, _x_ ili _z_, dodaj _es_.\n",
    "* Inače samo dodaj _s_.\n",
    "\n",
    "NB: Znakovni niz je zapravo polje znakova tako da vrijede \"trikovi\" za indeksiranje polja.\n",
    "\n",
    "__(b)__ Isprobajte implementiranu funkciju za _fix_, _brush_, _cry_, _play_ i _echo_. Primjetite da je ovo složen problem i da tri jednostavna pravila neće uspjeti pokriti sve slučajeve."
   ]
  },
  {
   "cell_type": "code",
   "execution_count": 426,
   "metadata": {
    "collapsed": false
   },
   "outputs": [
    {
     "name": "stdout",
     "output_type": "stream",
     "text": [
      "fix -> fixes\n",
      "brush -> brushes\n",
      "jump -> jumps\n",
      "cry -> cries\n",
      "echo -> echoes\n"
     ]
    }
   ],
   "source": [
    "def make_3sg_form(word):\n",
    "    ret_word = word\n",
    "    if ret_word.endswith(\"y\"):\n",
    "        ret_word = ret_word[0:-1] + \"ies\"\n",
    "    elif ret_word.endswith(\"o\") or ret_word.endswith(\"x\") or ret_word.endswith(\"s\") or \\\n",
    "        ret_word.endswith(\"ch\") or ret_word.endswith(\"sh\"):\n",
    "        ret_word += \"es\"\n",
    "    else:\n",
    "        ret_word += \"s\"\n",
    "    return ret_word\n",
    "\n",
    "print \"fix\", \"->\", make_3sg_form(\"fix\")\n",
    "print \"brush\", \"->\", make_3sg_form(\"brush\")\n",
    "print \"jump\", \"->\", make_3sg_form(\"jump\")\n",
    "print \"cry\", \"->\", make_3sg_form(\"cry\")\n",
    "print \"echo\", \"->\", make_3sg_form(\"echo\")\n",
    "        "
   ]
  },
  {
   "cell_type": "markdown",
   "metadata": {},
   "source": [
    "## 3."
   ]
  },
  {
   "cell_type": "markdown",
   "metadata": {},
   "source": [
    "Napišite funkciju `filterShortWords (word_list, min_length)` koja prima listu riječi i minimalnu dopuštenu duljinu riječi te vraća __novu__ listu riječi koja sadrži samo one riječi čija je duljina veća od minimalne dopuštene. Obavezno provjerite da je dana duljina riječi pozitivan broj veći od 1. Ako nije, bacite iznimku. U slučaju da korisnik nije zadao duljinu, funkcija radi jednako kao da je korisnik zadao duljinu od dva znaka (koristite podrazumijevane argumente, engl. _default arguments_). \n",
    "\n",
    "Zadatak riješite na dva načina: \n",
    "\n",
    "* __(a)__ korištenjem `for` petlji,\n",
    "* __(b)__ korištenjem sažetog zapisa liste,\n",
    "* __(c)__ korištenjem metode `filter` u kombinaciji s lambda-izrazom. \n",
    "\n",
    "__(d)__ Pokažite na primjeru da su izlazi implementiranih funkcija jednaki.\n",
    "\n",
    "NB: Podrazumijevani elementi (ili grupa istih) uvijek dolaze na kraju liste argumenata u definiciji funkcije."
   ]
  },
  {
   "cell_type": "code",
   "execution_count": 427,
   "metadata": {
    "collapsed": true
   },
   "outputs": [],
   "source": [
    "def filterShortWordsLoop(word_list, min_length=2):\n",
    "    if min_length < 1:\n",
    "        raise ValueError(\"Length must be >= 1.\")\n",
    "    filtered_list = []\n",
    "    for word in word_list:\n",
    "        if len(word) >= min_length:\n",
    "            filtered_list.append(word)\n",
    "    return filtered_list\n",
    "    "
   ]
  },
  {
   "cell_type": "code",
   "execution_count": 428,
   "metadata": {
    "collapsed": true
   },
   "outputs": [],
   "source": [
    "def filterShortWordsLambda(word_list, min_length=2):\n",
    "    if min_length < 1:\n",
    "        raise ValueError(\"Length must be >= 1.\")\n",
    "    return filter(lambda elem: len(elem) >= min_length, word_list)"
   ]
  },
  {
   "cell_type": "code",
   "execution_count": 429,
   "metadata": {
    "collapsed": true
   },
   "outputs": [],
   "source": [
    "def filterShortWordsCompr(word_list, min_length=2):\n",
    "    if min_length < 1:\n",
    "        raise ValueError(\"Length must be >= 1.\")\n",
    "    return [elem for elem in word_list if len(elem) >= min_length]"
   ]
  },
  {
   "cell_type": "code",
   "execution_count": 430,
   "metadata": {
    "collapsed": false
   },
   "outputs": [
    {
     "name": "stdout",
     "output_type": "stream",
     "text": [
      "['sam', 'mali', 'Mate', 'mame', 'tate']\n",
      "['sam', 'mali', 'Mate', 'mame', 'tate']\n",
      "['sam', 'mali', 'Mate', 'mame', 'tate']\n"
     ]
    }
   ],
   "source": [
    "word_list = [\"Ja\", \"sam\", \"mali\", \"Mate\", \"od\", \"mame\", \"i\", \"tate\"]\n",
    "print filterShortWordsLoop(word_list, min_length=3)\n",
    "print filterShortWordsLambda(word_list, min_length=3)\n",
    "print filterShortWordsCompr(word_list, min_length=3)"
   ]
  },
  {
   "cell_type": "markdown",
   "metadata": {},
   "source": [
    "## 4."
   ]
  },
  {
   "cell_type": "markdown",
   "metadata": {},
   "source": [
    "Dana vam je mapa koja za ključeve sadrži nazive programskih jezika, a za vrijednosti liste programskih paradigmi koje određeni jezik pokriva."
   ]
  },
  {
   "cell_type": "code",
   "execution_count": 431,
   "metadata": {
    "collapsed": false
   },
   "outputs": [],
   "source": [
    "langs_paradigms = {\n",
    "                  \"Java\" : [\"object-oriented\", \"imperative\"],\n",
    "                  \"Haskell\" : [\"functional\"],\n",
    "                  \"Lisp\" : [\"functional\", \"procedural\"]\n",
    "                  }"
   ]
  },
  {
   "cell_type": "markdown",
   "metadata": {},
   "source": [
    "Napišite razred `ProgLanguageRepository` uzimajući u obzir sljedeće stvari:\n",
    "* Konstruktor ovog razreda prima početnu mapu koja sadrži programske jezike i njihove paradigme.\n",
    "* Dana mapa sprema se kao član klase imena `data`.\n",
    "* Razred sadrži metodu `count` koja vraća broj programskih jezika dostupnih u repozitoriju.\n",
    "* Razred sadrži metodu `get_langs_paradigms (lang)` koja za dano ime programskog jezika vraća listu njegovih paradigmi ili vraća `None` ako taj jezik ne postoji u repozitoriju.\n",
    "* Razred sadrži metodu `add_lang_paradigm (lang, paradigm)` koja danom programskom jeziku dodaje paradigmu (ako je već nema).\n",
    "* Razred sadrži metodu `remove_lang_paradigm (lang, paradigm)` koja danom programskom jeziku miče danu paradigmu (ako je ima).\n",
    "* Razred ima nadjačanu metodu za znakovnu reprezentaciju koja samo ispisuje znakovnu reprezentaciju člana `data`.\n",
    "\n",
    "Pokažite na par primjera da vaša implementacija radi."
   ]
  },
  {
   "cell_type": "code",
   "execution_count": 432,
   "metadata": {
    "collapsed": false
   },
   "outputs": [],
   "source": [
    "class ProgLanguageRepository:\n",
    "\n",
    "    # Konstruktor\n",
    "    def __init__(self, data):\n",
    "        self.data = data\n",
    "    \n",
    "    def count(self):\n",
    "        return len(self.data.keys()) # len(self.data)\n",
    "    \n",
    "    def get_langs_paradigms(self, lang):\n",
    "        if lang in self.data:\n",
    "            return self.data[lang]\n",
    "        else:\n",
    "            return None\n",
    "    \n",
    "    def add_lang_paradigm(self, lang, paradigm):\n",
    "        if paradigm not in self.data[lang]:\n",
    "            self.data[lang].append(paradigm)\n",
    "    def remove_lang_paradigm(self, lang, paradigm):\n",
    "        if paradigm in self.data[lang]:\n",
    "            self.data[lang].remove(paradigm)\n",
    "    \n",
    "    def __str__(self):\n",
    "        return self.data.__str__()"
   ]
  },
  {
   "cell_type": "code",
   "execution_count": 433,
   "metadata": {
    "collapsed": false
   },
   "outputs": [
    {
     "name": "stdout",
     "output_type": "stream",
     "text": [
      "{'Lisp': ['functional', 'procedural'], 'Haskell': ['functional'], 'Java': ['object-oriented', 'imperative']}\n"
     ]
    }
   ],
   "source": [
    "prog_repo = ProgLanguageRepository(langs_paradigms)\n",
    "print prog_repo\n"
   ]
  },
  {
   "cell_type": "code",
   "execution_count": 434,
   "metadata": {
    "collapsed": false
   },
   "outputs": [
    {
     "name": "stdout",
     "output_type": "stream",
     "text": [
      "['functional', 'procedural']\n",
      "None\n"
     ]
    }
   ],
   "source": [
    "print prog_repo.get_langs_paradigms(\"Lisp\")\n",
    "print prog_repo.get_langs_paradigms(\"d\")"
   ]
  },
  {
   "cell_type": "code",
   "execution_count": 435,
   "metadata": {
    "collapsed": false
   },
   "outputs": [
    {
     "name": "stdout",
     "output_type": "stream",
     "text": [
      "{'Lisp': ['functional', 'procedural'], 'Haskell': ['functional', 'object-oriented'], 'Java': ['object-oriented', 'imperative']}\n"
     ]
    }
   ],
   "source": [
    "prog_repo.add_lang_paradigm(\"Haskell\", \"object-oriented\")\n",
    "prog_repo.add_lang_paradigm(\"Haskell\", \"object-oriented\")\n",
    "print prog_repo"
   ]
  },
  {
   "cell_type": "code",
   "execution_count": 436,
   "metadata": {
    "collapsed": false
   },
   "outputs": [
    {
     "name": "stdout",
     "output_type": "stream",
     "text": [
      "{'Lisp': ['functional', 'procedural'], 'Haskell': ['functional'], 'Java': ['object-oriented', 'imperative']}\n"
     ]
    }
   ],
   "source": [
    "prog_repo.remove_lang_paradigm(\"Haskell\", \"object-oriented\")\n",
    "prog_repo.remove_lang_paradigm(\"Haskell\", \"object-oriented\")\n",
    "print prog_repo"
   ]
  },
  {
   "cell_type": "markdown",
   "metadata": {},
   "source": [
    "## 5."
   ]
  },
  {
   "cell_type": "markdown",
   "metadata": {},
   "source": [
    "__(a)__ Napišite kôd koji stvara sljedeća tri vektor-stupca, jedan vektor-redak i kvadratnu matricu ranga 2 (koristite `numpy` za cijeli zadatak):\n",
    "\n",
    "$ x_{1} = \\begin{pmatrix}\n",
    "1\\\\\n",
    "2\\\\\n",
    "\\end{pmatrix}$,\n",
    "$ x_{2} = \\begin{pmatrix}\n",
    "3\\\\\n",
    "5\\\\\n",
    "\\end{pmatrix}$,\n",
    "$ x_{3} = \\begin{pmatrix}\n",
    "-3\\\\\n",
    "4\\\\\n",
    "\\end{pmatrix}$,\n",
    "$ x_{4} = \\begin{pmatrix}\n",
    "4\\\\\n",
    "0\\\\\n",
    "\\end{pmatrix}^T$,\n",
    "$ A = \\begin{pmatrix}\n",
    "5 & 3 \\\\\n",
    "10 & 6 \\\\\n",
    "\\end{pmatrix}\n",
    "$\n",
    "\n",
    "__(b)__ Zatim napišite naredbe koje stvaraju dvije nove matrice: matricu $C$ dimenzija $2\\times3$ koja se dobije tako da se vektor-stupci poredaju horizontalno jedan kraj drugog te matricu $D$ dimenzija $3\\times2$ koja se dobije tako da se matrica $A$ postavi ispod danog vektor-retka."
   ]
  },
  {
   "cell_type": "code",
   "execution_count": 437,
   "metadata": {
    "collapsed": false
   },
   "outputs": [
    {
     "name": "stdout",
     "output_type": "stream",
     "text": [
      "[[1]\n",
      " [2]]\n",
      "[[3]\n",
      " [5]]\n",
      "[[-3]\n",
      " [ 4]]\n",
      "[4 0]\n",
      "[[ 5  3]\n",
      " [10  6]]\n"
     ]
    }
   ],
   "source": [
    "# stvaranje svih danih vektora i matrica\n",
    "x_1 = np.array([[1], [2]])\n",
    "x_2 = np.array([[3], [5]])\n",
    "x_3 = np.array([[-3], [4]])\n",
    "x_4 = np.array([4, 0])\n",
    "A = np.array([[5, 3], [10, 6]])\n",
    "print x_1\n",
    "print x_2 \n",
    "print x_3\n",
    "print x_4\n",
    "print A"
   ]
  },
  {
   "cell_type": "code",
   "execution_count": 438,
   "metadata": {
    "collapsed": false
   },
   "outputs": [
    {
     "name": "stdout",
     "output_type": "stream",
     "text": [
      "[[ 1  3 -3]\n",
      " [ 2  5  4]]\n"
     ]
    }
   ],
   "source": [
    "# stvaranje matrice C\n",
    "C = np.hstack([x_1, x_2, x_3])\n",
    "print C"
   ]
  },
  {
   "cell_type": "code",
   "execution_count": 439,
   "metadata": {
    "collapsed": false
   },
   "outputs": [
    {
     "name": "stdout",
     "output_type": "stream",
     "text": [
      "[[ 4  0]\n",
      " [ 5  3]\n",
      " [10  6]]\n"
     ]
    }
   ],
   "source": [
    "# stvaranje matrice D\n",
    "D = np.vstack([x_4, A])\n",
    "print D"
   ]
  },
  {
   "cell_type": "markdown",
   "metadata": {},
   "source": [
    "__(c)__ Izračunajte umnožak matrica $C$ i $D$ te ga pohranite u matricu $U$."
   ]
  },
  {
   "cell_type": "code",
   "execution_count": 440,
   "metadata": {
    "collapsed": false
   },
   "outputs": [
    {
     "name": "stdout",
     "output_type": "stream",
     "text": [
      "[[-11  -9]\n",
      " [ 73  39]]\n"
     ]
    }
   ],
   "source": [
    "U = C.dot(D)\n",
    "print U"
   ]
  },
  {
   "cell_type": "markdown",
   "metadata": {},
   "source": [
    "__(d)__ Nadalje, napišite kôd koji izračunava inverz matrice $U$ (spremiti u matricu $I$) kojeg zatim transponira (i sprema u matricu $R$)."
   ]
  },
  {
   "cell_type": "code",
   "execution_count": 441,
   "metadata": {
    "collapsed": false
   },
   "outputs": [
    {
     "name": "stdout",
     "output_type": "stream",
     "text": [
      "[[ 0.17105263  0.03947368]\n",
      " [-0.32017544 -0.04824561]]\n",
      "[[ 0.17105263 -0.32017544]\n",
      " [ 0.03947368 -0.04824561]]\n"
     ]
    }
   ],
   "source": [
    "I = np.linalg.inv(U)\n",
    "print I\n",
    "R = np.transpose(I)\n",
    "print R"
   ]
  },
  {
   "cell_type": "markdown",
   "metadata": {},
   "source": [
    "__(e)__ Izračunajte sumu svih elemenata u matrici $D$ (spremite u varijablu `D_total`), ali i sume po zasebnim dimenzijama (`D_x`, `D_y`)."
   ]
  },
  {
   "cell_type": "code",
   "execution_count": 442,
   "metadata": {
    "collapsed": false
   },
   "outputs": [
    {
     "name": "stdout",
     "output_type": "stream",
     "text": [
      "28\n",
      "[19  9]\n",
      "[ 4  8 16]\n"
     ]
    }
   ],
   "source": [
    "D_total = np.sum(D[:])\n",
    "print D_total\n",
    "D_x = np.sum(D, axis=0) # po x osi\n",
    "print D_x\n",
    "D_y = np.sum(D, axis=1) # po y osi\n",
    "print D_y"
   ]
  },
  {
   "cell_type": "markdown",
   "metadata": {},
   "source": [
    "__(f)__ Ispišite determinantu matrice $R$."
   ]
  },
  {
   "cell_type": "code",
   "execution_count": 443,
   "metadata": {
    "collapsed": false
   },
   "outputs": [
    {
     "name": "stdout",
     "output_type": "stream",
     "text": [
      "0.00438596491228\n"
     ]
    }
   ],
   "source": [
    "print np.linalg.det(R)"
   ]
  },
  {
   "cell_type": "markdown",
   "metadata": {},
   "source": [
    "__(g)__ Isprobajte vrijedi li $R\\cdot R^{-1} = I$."
   ]
  },
  {
   "cell_type": "code",
   "execution_count": 444,
   "metadata": {
    "collapsed": false
   },
   "outputs": [
    {
     "name": "stdout",
     "output_type": "stream",
     "text": [
      "[[ 1.  0.]\n",
      " [ 0.  1.]]\n"
     ]
    }
   ],
   "source": [
    "RI = np.dot(R, np.linalg.inv(R))\n",
    "print RI"
   ]
  },
  {
   "cell_type": "markdown",
   "metadata": {},
   "source": [
    "__(h)__ Stvorite vektor-stupac $n$ dimenzija $4\\times 1$ čiji su svi elementi 0 (bez ručnog pisanja svih elemenata)."
   ]
  },
  {
   "cell_type": "code",
   "execution_count": 445,
   "metadata": {
    "collapsed": false
   },
   "outputs": [
    {
     "name": "stdout",
     "output_type": "stream",
     "text": [
      "[[ 0.]\n",
      " [ 0.]\n",
      " [ 0.]\n",
      " [ 0.]]\n"
     ]
    }
   ],
   "source": [
    "n = np.zeros([4, 1])\n",
    "print n"
   ]
  },
  {
   "cell_type": "markdown",
   "metadata": {},
   "source": [
    "## 6."
   ]
  },
  {
   "cell_type": "markdown",
   "metadata": {},
   "source": [
    "__(a)__ Napišite kôd koji iscrtava sljedeće funkcije:\n",
    "\n",
    "$f_{1}(x) = \\sqrt{(1-(|x|-1)^2)}$ i $f_{2}(x) = -3 \\cdot \\sqrt{(1-\\sqrt{\\frac{|x|}{2}})}$\n",
    "\n",
    "pritom definirajući domenu funkcija kao $x \\in [-2, 2]$ (u 1000 točaka). Graf funkcije $f_{1}(x)$ prikažite plavom bojom, a graf funkcije $f_{2}(x)$ crvenom. Iscrtajte oba grafa na istoj slici tako da su vidljive točke iz intervala $x \\in [-3, 3]$ i $y \\in [-3, 1.5]$.\n",
    "\n",
    "__(b)__ Ostavite oznake osi jednostavno kao $x$ i $y$. Iscrtajte legendu u donjem desnom kutu tako da je naziv funkcije $f_{1}(x)$ _bolja polovica_, a naziv funkcije $f_{2}(x)$ _dobra polovica_."
   ]
  },
  {
   "cell_type": "code",
   "execution_count": 446,
   "metadata": {
    "collapsed": false
   },
   "outputs": [
    {
     "data": {
      "image/png": "[encoded data removed]",
      "text/plain": [
       "<matplotlib.figure.Figure at 0xc101518>"
      ]
     },
     "metadata": {},
     "output_type": "display_data"
    }
   ],
   "source": [
    "# funkcije\n",
    "def f_1(x):\n",
    "    return np.sqrt((1 - (np.abs(x) - 1)**2))\n",
    "def f_2(x):\n",
    "    return -3 * np.sqrt(1 - np.sqrt((np.abs(x)/2)))\n",
    "\n",
    "# domena u 1000 točaka\n",
    "x = np.linspace(-2, 2, 1000)\n",
    "# iscrtavanje prvog grafa plavom linijom\n",
    "plt.plot(x, f_1(x), 'b-', label=\"bolja polovica\")\n",
    "# iscrtavanje drugog grafa crvenom linijom\n",
    "plt.plot(x, f_2(x), 'r-', label=\"dobra polovica\")\n",
    "# postavljanje ograničenja prikaza\n",
    "plt.xlim([-3, 3])\n",
    "plt.ylim([-3, 1.5])\n",
    "# postavljanje oznaka osi\n",
    "plt.xlabel(\"x\")\n",
    "plt.ylabel(\"y\")\n",
    "# iscrtavanje legende\n",
    "plt.legend(loc=\"lower right\")\n",
    "plt.show()\n"
   ]
  },
  {
   "cell_type": "markdown",
   "metadata": {},
   "source": [
    "## 7."
   ]
  },
  {
   "cell_type": "markdown",
   "metadata": {},
   "source": [
    "__(a)__ Učitajte skup podataka _Iris_. Ovaj skup podataka sadrži 150 instanci, 50 za svaku od tri klase (_Iris setosa_, _Iris virginica_ i _Iris versicolor_). Svaka instanca, to jest vektor, sadrži četiri značajke: širinu i dužinu latice te širinu i dužinu čašićnog listića. U polju _iris.data_ nalaze se instance, dok se u _iris.target_ nalaze oznake instanci (njihove stvarne klase).  Ispišite dimenzije polja instanci te polja njihovih stvarnih oznaka."
   ]
  },
  {
   "cell_type": "code",
   "execution_count": 447,
   "metadata": {
    "collapsed": false
   },
   "outputs": [
    {
     "name": "stdout",
     "output_type": "stream",
     "text": [
      "(150L, 4L)\n",
      "(150L,)\n"
     ]
    }
   ],
   "source": [
    "# učitavanje dataseta\n",
    "iris = datasets.load_iris()\n",
    "print iris.data.shape\n",
    "print iris.target.shape"
   ]
  },
  {
   "cell_type": "markdown",
   "metadata": {},
   "source": [
    "__(b)__ Budući da ne možemo vizualizirati 4-dimenzijske podatke, iz svake instance izdvojite samo prve dvije značajke. Koristite indeksiranje poljem brojeva. Ispišite dimenzije dobivenog polja instanci."
   ]
  },
  {
   "cell_type": "code",
   "execution_count": 448,
   "metadata": {
    "collapsed": false
   },
   "outputs": [
    {
     "name": "stdout",
     "output_type": "stream",
     "text": [
      "(150L, 2L)\n"
     ]
    }
   ],
   "source": [
    "data_2dim = iris.data[:, 0:2]\n",
    "print data_2dim.shape"
   ]
  },
  {
   "cell_type": "markdown",
   "metadata": {},
   "source": [
    "__(c)__ Logičkim indeksiranjem razdvojite primjere za svaku od tri klase. Ispišite dimenzije dobivenih polja."
   ]
  },
  {
   "cell_type": "code",
   "execution_count": 449,
   "metadata": {
    "collapsed": false
   },
   "outputs": [
    {
     "name": "stdout",
     "output_type": "stream",
     "text": [
      "(50L, 4L)\n",
      "(50L, 4L)\n",
      "(50L, 4L)\n"
     ]
    }
   ],
   "source": [
    "class_1_samples = iris.data[iris.target == 0]\n",
    "class_2_samples = iris.data[iris.target == 1]\n",
    "class_3_samples = iris.data[iris.target == 2]\n",
    "\n",
    "print class_1_samples.shape\n",
    "print class_2_samples.shape\n",
    "print class_3_samples.shape"
   ]
  },
  {
   "cell_type": "markdown",
   "metadata": {},
   "source": [
    "__(d)__ Napišite kôd koji iscrtava četiri zasebna grafa (četiri podgrafa u 2x2 mreži), pri čemu tri grafa prikazuju instance određene klase (točke u 2-dimenzijskom prostoru), a četvrti ih prikazuje sve (u različitim bojama). Osigurajte da svi grafovi prikazuju isto područje grafa (npr. $x \\in [4,9]$ i $y \\in [1.5, 5]$).\n",
    "\n",
    "Proučite kako se postavlja veličina glavnog okvira (u koji se smještaju podgrafovi) te ju postavite na 10x8."
   ]
  },
  {
   "cell_type": "code",
   "execution_count": 450,
   "metadata": {
    "collapsed": false
   },
   "outputs": [
    {
     "data": {
      "image/png": "[encoded data removed]",
      "text/plain": [
       "<matplotlib.figure.Figure at 0x16e1acc0>"
      ]
     },
     "metadata": {},
     "output_type": "display_data"
    }
   ],
   "source": [
    "plt.figure(figsize=(10,8))\n",
    "# class 1\n",
    "plt.subplot(221)\n",
    "plt.scatter(class_1_samples[:,0], class_1_samples[:,1], c='r')\n",
    "plt.xlim([4, 9])\n",
    "plt.ylim([1.5, 5])\n",
    "# class 2\n",
    "plt.subplot(222)\n",
    "plt.scatter(class_2_samples[:,0], class_2_samples[:,1], c='g')\n",
    "plt.xlim([4, 9])\n",
    "plt.ylim([1.5, 5])\n",
    "# class 3\n",
    "plt.subplot(223)\n",
    "plt.scatter(class_3_samples[:,0], class_3_samples[:,1], c='b')\n",
    "plt.xlim([4, 9])\n",
    "plt.ylim([1.5, 5])\n",
    "# all three classes\n",
    "plt.subplot(224)\n",
    "plt.scatter(data_2dim[:,0], data_2dim[:,1], c=iris.target, cmap=plt.cm.Set1)\n",
    "plt.xlim([4, 9])\n",
    "plt.ylim([1.5, 5])\n",
    "\n",
    "plt.show()\n"
   ]
  },
  {
   "cell_type": "markdown",
   "metadata": {},
   "source": [
    "## 8."
   ]
  },
  {
   "cell_type": "markdown",
   "metadata": {},
   "source": [
    "__(a)__ Napišite kôd koji u petlji iscrtava grafove normalnih distribucija definiranih s parametarima $\\mu$ i $\\sigma$:\n",
    "\n",
    "* $\\mu = 3$\n",
    "* $\\sigma \\in [1, 5]$ (korak 1)\n",
    "\n",
    "Dakle, generirat ćete pet grafova normalnih distribucija: $\\mathcal{N}_{1}(\\mu = 3, \\sigma = 1)$, $\\mathcal{N}_{2}(\\mu = 3, \\sigma = 2)$, ... , $\\mathcal{N}_{1}(\\mu = 3, \\sigma = 5)$.\n",
    "\n",
    "Grafove iscrtajte na istoj slici tako da su vidljive točke iz intervala $x \\in [-15, 15]$ i $y \\in [0, 0.5]$. Za svaki graf upotrijebite drugu boju. Za domenu koristite $[-50, 50]$ (uzorkujte 1000 točaka). Također napravite legendu u gornjem lijevom kutu koji će sve grafove nazvati onako kako su i u zadatku \n",
    "definirani ($\\LaTeX$ kôd radi unutar znakovnih nizova koji definiraju oznaku unutar legende), npr. $\\mathcal{N}_{1}(\\mu = 3, \\sigma = 5)$.\n"
   ]
  },
  {
   "cell_type": "code",
   "execution_count": 451,
   "metadata": {
    "collapsed": false
   },
   "outputs": [
    {
     "data": {
      "image/png": "[encoded data removed]",
      "text/plain": [
       "<matplotlib.figure.Figure at 0xb45bcf8>"
      ]
     },
     "metadata": {},
     "output_type": "display_data"
    }
   ],
   "source": [
    "xs = np.linspace(-50, 50, 1000)\n",
    "sigmas = range(1, 6)\n",
    "\n",
    "for sigma, color in zip(sigmas, \"rgbmy\"):\n",
    "    n_dist = stats.norm.pdf(xs, loc=3, scale=sigma)\n",
    "    label = \"$\\mathcal{N}_{1}(\\mu = 3, \\sigma = \" + str(sigma) + \")$\"\n",
    "    plt.plot(xs, n_dist, color, label=label)\n",
    "\n",
    "plt.xlim([-15, 15])\n",
    "plt.ylim([0, 0.5])\n",
    "plt.legend(loc=\"upper left\")\n",
    "plt.show()"
   ]
  },
  {
   "cell_type": "markdown",
   "metadata": {},
   "source": [
    "Sada pretpostavite da imate zadanu distribuciju ocjena na nekom kolegiju koja se pokorava normalnoj distribuciji $\\mathcal{N}_{G}(\\mu = 62, \\sigma = 13)$. Najprije je iscrtajte (nebitno kako), ali osigurajte da je domena $[0, 100]$ (raspon mogućih bodova na kolegiju) također uzorkovana u 1000 točaka."
   ]
  },
  {
   "cell_type": "code",
   "execution_count": 452,
   "metadata": {
    "collapsed": false
   },
   "outputs": [
    {
     "data": {
      "image/png": "[encoded data removed]",
      "text/plain": [
       "<matplotlib.figure.Figure at 0x18a99518>"
      ]
     },
     "metadata": {},
     "output_type": "display_data"
    }
   ],
   "source": [
    "xsg = np.linspace(0, 100, 1000)\n",
    "n_g = stats.norm.pdf(xsg, loc=62, scale=13)\n",
    "plt.plot(xsg, n_g, 'b-')\n",
    "plt.show()"
   ]
  },
  {
   "cell_type": "markdown",
   "metadata": {},
   "source": [
    "Međutim, vi polažete kolegij naknadno na roku, a profesoru se zaista ne da ispravljati vaš ispit. Kako bi tome doskočio, profesor često koristi tradicionalnu metodu stubišta (https://www.linkedin.com/pulse/20140414044726-2259773-a-guide-to-grading-exams) koju možemo aproksimirati nasumičnim odabirom broja iz distribucije bodova na ispitu. Napišite kôd koji iz distribucije bodova $\\mathcal{N}_{G}$ dohvaća slučajnu vrijednost koja predstavlja vaš broj bodova (zaokružite bodove na cijeli broj)."
   ]
  },
  {
   "cell_type": "code",
   "execution_count": 453,
   "metadata": {
    "collapsed": false
   },
   "outputs": [
    {
     "name": "stdout",
     "output_type": "stream",
     "text": [
      "Na ispitu sam osvojio 59 bodova.\n"
     ]
    }
   ],
   "source": [
    "points = int(stats.norm.rvs(loc=62, scale=13))\n",
    "print \"Na ispitu sam osvojio\", points, \"bodova.\""
   ]
  },
  {
   "cell_type": "markdown",
   "metadata": {},
   "source": [
    "## 10."
   ]
  },
  {
   "cell_type": "markdown",
   "metadata": {},
   "source": [
    "Iscrtajte konture 2-dimenzijske Gausove distribucije $\\mathcal{N} (\\vec{\\mu}, \\Sigma)$ sa sljedećim parametrima:\n",
    "\n",
    "* $\\vec{\\mu} = [1, 1]$\n",
    "* $\\Sigma = \\begin{pmatrix}\n",
    "1 & 1 \\\\\n",
    "0.5 & 3 \\\\\n",
    "\\end{pmatrix}$\n",
    "\n",
    "Za domenu uzmite $x_{1} \\in [-1, 2]$ i $y_{2} \\in [-2, 2]$."
   ]
  },
  {
   "cell_type": "code",
   "execution_count": 474,
   "metadata": {
    "collapsed": false
   },
   "outputs": [
    {
     "data": {
      "image/png": "[encoded data removed]",
      "text/plain": [
       "<matplotlib.figure.Figure at 0x16d67eb8>"
      ]
     },
     "metadata": {},
     "output_type": "display_data"
    }
   ],
   "source": [
    "mnormal = stats.multivariate_normal([1, 1], [[1, 1], [0.5, 3]])\n",
    "x_1 = np.linspace(-1, 2)\n",
    "x_2 = np.linspace(-2, 2)\n",
    "\n",
    "X1, X2 = np.meshgrid(x_1, x_2)\n",
    "X1X2 = np.dstack((X1, X2))\n",
    "\n",
    "plt.contourf(X1, X2, mnormal.pdf(X1X2))\n",
    "plt.show()"
   ]
  }
 ],
 "metadata": {
  "anaconda-cloud": {},
  "kernelspec": {
   "display_name": "Python [default]",
   "language": "python",
   "name": "python2"
  },
  "language_info": {
   "codemirror_mode": {
    "name": "ipython",
    "version": 2
   },
   "file_extension": ".py",
   "mimetype": "text/x-python",
   "name": "python",
   "nbconvert_exporter": "python",
   "pygments_lexer": "ipython2",
   "version": "2.7.12"
  }
 },
 "nbformat": 4,
 "nbformat_minor": 0
}
